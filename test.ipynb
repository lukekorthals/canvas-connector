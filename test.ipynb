{
 "cells": [
  {
   "cell_type": "code",
   "execution_count": 7,
   "metadata": {},
   "outputs": [],
   "source": [
    "from canvasapi import Canvas\n",
    "from canvasapi.requester import Requester\n",
    "import os\n",
    "import requests\n",
    "\n",
    "\n",
    "from utils.canvas_utils import get_courses_df, get_users_df, get_courses_df, donwload_assignment_submissions, upload_file_to_canvas\n",
    "\n",
    "CANVAS_API_URL = os.getenv(\"CANVAS_API_URL\")\n",
    "CANVAS_API_KEY = os.getenv(\"CANVAS_API_KEY\")"
   ]
  },
  {
   "cell_type": "code",
   "execution_count": 8,
   "metadata": {},
   "outputs": [],
   "source": [
    "canvas = Canvas(CANVAS_API_URL, CANVAS_API_KEY)\n",
    "requester = Requester(CANVAS_API_URL, CANVAS_API_KEY)"
   ]
  },
  {
   "cell_type": "code",
   "execution_count": 9,
   "metadata": {},
   "outputs": [
    {
     "data": {
      "text/html": [
       "<div>\n",
       "<style scoped>\n",
       "    .dataframe tbody tr th:only-of-type {\n",
       "        vertical-align: middle;\n",
       "    }\n",
       "\n",
       "    .dataframe tbody tr th {\n",
       "        vertical-align: top;\n",
       "    }\n",
       "\n",
       "    .dataframe thead th {\n",
       "        text-align: right;\n",
       "    }\n",
       "</style>\n",
       "<table border=\"1\" class=\"dataframe\">\n",
       "  <thead>\n",
       "    <tr style=\"text-align: right;\">\n",
       "      <th></th>\n",
       "      <th>course_id</th>\n",
       "      <th>course_name</th>\n",
       "      <th>course_created_at</th>\n",
       "    </tr>\n",
       "  </thead>\n",
       "  <tbody>\n",
       "    <tr>\n",
       "      <th>0</th>\n",
       "      <td>47314</td>\n",
       "      <td>Deep Learning in Python</td>\n",
       "      <td>2024-05-13T08:35:28Z</td>\n",
       "    </tr>\n",
       "    <tr>\n",
       "      <th>1</th>\n",
       "      <td>2989</td>\n",
       "      <td>PhD Monitoring</td>\n",
       "      <td>2018-05-14T11:35:35Z</td>\n",
       "    </tr>\n",
       "    <tr>\n",
       "      <th>2</th>\n",
       "      <td>40084</td>\n",
       "      <td>Programming in Psychological Science</td>\n",
       "      <td>2023-05-30T07:25:12Z</td>\n",
       "    </tr>\n",
       "    <tr>\n",
       "      <th>3</th>\n",
       "      <td>24603</td>\n",
       "      <td>Programming in Psychological Science</td>\n",
       "      <td>2021-05-19T09:28:14Z</td>\n",
       "    </tr>\n",
       "    <tr>\n",
       "      <th>4</th>\n",
       "      <td>31500</td>\n",
       "      <td>Programming in Psychological Science</td>\n",
       "      <td>2022-05-18T12:22:33Z</td>\n",
       "    </tr>\n",
       "    <tr>\n",
       "      <th>5</th>\n",
       "      <td>47355</td>\n",
       "      <td>Programming in Psychological Science</td>\n",
       "      <td>2024-05-13T08:35:50Z</td>\n",
       "    </tr>\n",
       "    <tr>\n",
       "      <th>6</th>\n",
       "      <td>51394</td>\n",
       "      <td>Test course Luke Korthals</td>\n",
       "      <td>2024-11-26T10:47:08Z</td>\n",
       "    </tr>\n",
       "  </tbody>\n",
       "</table>\n",
       "</div>"
      ],
      "text/plain": [
       "   course_id                           course_name     course_created_at\n",
       "0      47314               Deep Learning in Python  2024-05-13T08:35:28Z\n",
       "1       2989                        PhD Monitoring  2018-05-14T11:35:35Z\n",
       "2      40084  Programming in Psychological Science  2023-05-30T07:25:12Z\n",
       "3      24603  Programming in Psychological Science  2021-05-19T09:28:14Z\n",
       "4      31500  Programming in Psychological Science  2022-05-18T12:22:33Z\n",
       "5      47355  Programming in Psychological Science  2024-05-13T08:35:50Z\n",
       "6      51394             Test course Luke Korthals  2024-11-26T10:47:08Z"
      ]
     },
     "execution_count": 9,
     "metadata": {},
     "output_type": "execute_result"
    }
   ],
   "source": [
    "# Checkout course IDs\n",
    "pips_2022_id = 31500\n",
    "course = canvas.get_course(pips_2022_id)\n",
    "get_courses_df(canvas)"
   ]
  },
  {
   "cell_type": "code",
   "execution_count": 10,
   "metadata": {},
   "outputs": [
    {
     "data": {
      "text/html": [
       "<div>\n",
       "<style scoped>\n",
       "    .dataframe tbody tr th:only-of-type {\n",
       "        vertical-align: middle;\n",
       "    }\n",
       "\n",
       "    .dataframe tbody tr th {\n",
       "        vertical-align: top;\n",
       "    }\n",
       "\n",
       "    .dataframe thead th {\n",
       "        text-align: right;\n",
       "    }\n",
       "</style>\n",
       "<table border=\"1\" class=\"dataframe\">\n",
       "  <thead>\n",
       "    <tr style=\"text-align: right;\">\n",
       "      <th></th>\n",
       "      <th>user_id</th>\n",
       "      <th>user_name</th>\n",
       "      <th>user_email</th>\n",
       "    </tr>\n",
       "  </thead>\n",
       "  <tbody>\n",
       "    <tr>\n",
       "      <th>33</th>\n",
       "      <td>345502</td>\n",
       "      <td>Luke Korthals</td>\n",
       "      <td>luke.korthals@student.uva.nl</td>\n",
       "    </tr>\n",
       "    <tr>\n",
       "      <th>34</th>\n",
       "      <td>513294</td>\n",
       "      <td>Luke Korthals</td>\n",
       "      <td>l.korthals@uva.nl</td>\n",
       "    </tr>\n",
       "  </tbody>\n",
       "</table>\n",
       "</div>"
      ],
      "text/plain": [
       "    user_id      user_name                    user_email\n",
       "33   345502  Luke Korthals  luke.korthals@student.uva.nl\n",
       "34   513294  Luke Korthals             l.korthals@uva.nl"
      ]
     },
     "execution_count": 10,
     "metadata": {},
     "output_type": "execute_result"
    }
   ],
   "source": [
    "# Checkout students\n",
    "luke_student_id = 345502\n",
    "luke_student = course.get_user(luke_student_id)\n",
    "get_users_df(course).query(\"user_name=='Luke Korthals'\")"
   ]
  },
  {
   "cell_type": "code",
   "execution_count": 11,
   "metadata": {},
   "outputs": [
    {
     "data": {
      "text/html": [
       "<div>\n",
       "<style scoped>\n",
       "    .dataframe tbody tr th:only-of-type {\n",
       "        vertical-align: middle;\n",
       "    }\n",
       "\n",
       "    .dataframe tbody tr th {\n",
       "        vertical-align: top;\n",
       "    }\n",
       "\n",
       "    .dataframe thead th {\n",
       "        text-align: right;\n",
       "    }\n",
       "</style>\n",
       "<table border=\"1\" class=\"dataframe\">\n",
       "  <thead>\n",
       "    <tr style=\"text-align: right;\">\n",
       "      <th></th>\n",
       "      <th>user_id</th>\n",
       "      <th>user_name</th>\n",
       "      <th>user_email</th>\n",
       "    </tr>\n",
       "  </thead>\n",
       "  <tbody>\n",
       "    <tr>\n",
       "      <th>0</th>\n",
       "      <td>390048</td>\n",
       "      <td>Sonia Acuna Vargas</td>\n",
       "      <td>s.s.acunavargas@uva.nl</td>\n",
       "    </tr>\n",
       "    <tr>\n",
       "      <th>1</th>\n",
       "      <td>356486</td>\n",
       "      <td>Gautam Ajay</td>\n",
       "      <td>gautam.ajay@student.uva.nl</td>\n",
       "    </tr>\n",
       "    <tr>\n",
       "      <th>2</th>\n",
       "      <td>353472</td>\n",
       "      <td>Hannah Armstrong</td>\n",
       "      <td>hannah.armstrong@student.uva.nl</td>\n",
       "    </tr>\n",
       "    <tr>\n",
       "      <th>3</th>\n",
       "      <td>25425</td>\n",
       "      <td>Olaiya Aro</td>\n",
       "      <td>olaiya.aro@student.uva.nl</td>\n",
       "    </tr>\n",
       "    <tr>\n",
       "      <th>4</th>\n",
       "      <td>354997</td>\n",
       "      <td>Ann-Kathrin Arui</td>\n",
       "      <td>ann-kathrin.arui@student.uva.nl</td>\n",
       "    </tr>\n",
       "    <tr>\n",
       "      <th>...</th>\n",
       "      <td>...</td>\n",
       "      <td>...</td>\n",
       "      <td>...</td>\n",
       "    </tr>\n",
       "    <tr>\n",
       "      <th>65</th>\n",
       "      <td>359028</td>\n",
       "      <td>Jessi Witmer</td>\n",
       "      <td>jessi.witmer@student.uva.nl</td>\n",
       "    </tr>\n",
       "    <tr>\n",
       "      <th>66</th>\n",
       "      <td>358118</td>\n",
       "      <td>Shujun Yang</td>\n",
       "      <td>jan.yang@student.uva.nl</td>\n",
       "    </tr>\n",
       "    <tr>\n",
       "      <th>67</th>\n",
       "      <td>149890</td>\n",
       "      <td>Luiza Yuan</td>\n",
       "      <td>luiza.yuan@student.uva.nl</td>\n",
       "    </tr>\n",
       "    <tr>\n",
       "      <th>68</th>\n",
       "      <td>145379</td>\n",
       "      <td>Andreea Zetea</td>\n",
       "      <td>andreea.zetea@student.uva.nl</td>\n",
       "    </tr>\n",
       "    <tr>\n",
       "      <th>69</th>\n",
       "      <td>153230</td>\n",
       "      <td>Tara Zohrevand</td>\n",
       "      <td>tara.zohrevand@student.uva.nl</td>\n",
       "    </tr>\n",
       "  </tbody>\n",
       "</table>\n",
       "<p>70 rows × 3 columns</p>\n",
       "</div>"
      ],
      "text/plain": [
       "    user_id           user_name                       user_email\n",
       "0    390048  Sonia Acuna Vargas           s.s.acunavargas@uva.nl\n",
       "1    356486         Gautam Ajay       gautam.ajay@student.uva.nl\n",
       "2    353472    Hannah Armstrong  hannah.armstrong@student.uva.nl\n",
       "3     25425          Olaiya Aro        olaiya.aro@student.uva.nl\n",
       "4    354997    Ann-Kathrin Arui  ann-kathrin.arui@student.uva.nl\n",
       "..      ...                 ...                              ...\n",
       "65   359028        Jessi Witmer      jessi.witmer@student.uva.nl\n",
       "66   358118         Shujun Yang          jan.yang@student.uva.nl\n",
       "67   149890          Luiza Yuan        luiza.yuan@student.uva.nl\n",
       "68   145379       Andreea Zetea     andreea.zetea@student.uva.nl\n",
       "69   153230      Tara Zohrevand    tara.zohrevand@student.uva.nl\n",
       "\n",
       "[70 rows x 3 columns]"
      ]
     },
     "execution_count": 11,
     "metadata": {},
     "output_type": "execute_result"
    }
   ],
   "source": [
    "get_users_df(course)"
   ]
  },
  {
   "cell_type": "code",
   "execution_count": null,
   "metadata": {},
   "outputs": [],
   "source": [
    "course_id = 31500 # PIPS 2022\n",
    "assignment_id = 331573 # Assignment 1\n",
    "user_id_blacklist = None\n",
    "user_id_whitelist = [345502] # Luke Student ID for now\n",
    "\n",
    "donwload_assignment_submissions(requester, course_id, assignment_id, user_id_whitelist=user_id_whitelist)"
   ]
  },
  {
   "cell_type": "markdown",
   "metadata": {},
   "source": [
    "Notify Canvas that you are uploading a file with a POST to the file creation endpoint. This POST will include the file name and file size, along with information about what context the file is being created in.\n",
    "Upload the file using the information returned in the first POST request.\n",
    "On successful upload, the API will respond with a redirect. This redirect needs to be followed to complete the upload, or the file may not appear."
   ]
  },
  {
   "cell_type": "code",
   "execution_count": 13,
   "metadata": {},
   "outputs": [
    {
     "data": {
      "text/plain": [
       "<Response [201]>"
      ]
     },
     "execution_count": 13,
     "metadata": {},
     "output_type": "execute_result"
    }
   ],
   "source": [
    "luke_personal_files_folder = 2666353\n",
    "upload_file_to_canvas(requester, \"upload\\luke_test.txt\", luke_personal_files_folder)"
   ]
  },
  {
   "cell_type": "code",
   "execution_count": null,
   "metadata": {},
   "outputs": [],
   "source": [
    "# Inputs\n",
    "#   Course ID\n",
    "#   Assignment ID\n",
    "#   User ID Blacklist\n",
    "#   User ID Whitelist - supercedes blacklist\n",
    "\n",
    "\n",
    "# GET Submissions\n",
    "#   Querry all submissions including history of that course and assignment\n",
    "#   If Whitelist only whitelist if blacklist not blacklist\n",
    "#   Extract all attachment IDs together with relevant information for naming and saving etc\n",
    "\n",
    "# Download Files\n",
    "#   Loop over the gathered attachments and download them to the correct location\n",
    "\n",
    "# Create Feedback\n",
    "#   Query \n"
   ]
  },
  {
   "cell_type": "code",
   "execution_count": 9,
   "metadata": {},
   "outputs": [],
   "source": [
    "submission = requester.request(\"GET\", \"courses/31500/assignments/331573/submissions/345502\")"
   ]
  },
  {
   "cell_type": "code",
   "execution_count": null,
   "metadata": {},
   "outputs": [],
   "source": [
    "https://canvas.uva.nl/courses/51394/gradebook/speed_grader?assignment_id=557159&student_id=527123"
   ]
  },
  {
   "cell_type": "code",
   "execution_count": 14,
   "metadata": {},
   "outputs": [],
   "source": [
    "assignment_id = 557159\n",
    "user_id = 527123\n",
    "course_id = 51394\n",
    "url = f\"courses/{course_id}/assignments/{assignment_id}/submissions/{user_id}/comments/files\"\n",
    "\n",
    "test = requester.request(\"POST\", url)"
   ]
  },
  {
   "cell_type": "code",
   "execution_count": 15,
   "metadata": {},
   "outputs": [
    {
     "data": {
      "text/plain": [
       "{'file_param': 'file',\n",
       " 'progress': None,\n",
       " 'upload_url': 'https://inst-fs-dub-prod.inscloudgate.net/files?token=eyJ0eXAiOiJKV1QiLCJhbGciOiJIUzUxMiJ9.eyJpYXQiOjE3MzI2MjMwODgsInVzZXJfaWQiOiIxMDM5MjAwMDAwMDA1MTMyOTQiLCJyZXNvdXJjZSI6Ii9maWxlcyIsImNhcHR1cmVfdXJsIjoiaHR0cHM6Ly9jYW52YXMudXZhLm5sL2FwaS92MS9maWxlcy9jYXB0dXJlIiwiY2FwdHVyZV9wYXJhbXMiOnsiY29udGV4dF90eXBlIjoiQXNzaWdubWVudCIsImNvbnRleHRfaWQiOiIxMDM5MjAwMDAwMDA1NTcxNTkiLCJ1c2VyX2lkIjoiMTAzOTIwMDAwMDAwNTEzMjk0IiwiZm9sZGVyX2lkIjpudWxsLCJyb290X2FjY291bnRfaWQiOiIxMDM5MjAwMDAwMDAwMDAwMDEiLCJxdW90YV9leGVtcHQiOnRydWUsIm9uX2R1cGxpY2F0ZSI6Im92ZXJ3cml0ZSIsInByb2dyZXNzX2lkIjpudWxsLCJpbmNsdWRlIjpudWxsfSwibGVnYWN5X2FwaV9kZXZlbG9wZXJfa2V5X2lkIjoiMTcwMDAwMDAwMDAwMDE2IiwibGVnYWN5X2FwaV9yb290X2FjY291bnRfaWQiOiIxMDM5MjAwMDAwMDAwMDAwMDEiLCJleHAiOjE3MzI2MjM2ODh9.z7Hn4DrQ325S1f17ULYXCwW1kvjyNYUhtNoyvJ_kgrC9GzgX7dbZqPnlPRcv2pecwm3fzut0Kw_QYyELP3Nd5A',\n",
       " 'upload_params': {'filename': None, 'content_type': 'unknown/unknown'}}"
      ]
     },
     "execution_count": 15,
     "metadata": {},
     "output_type": "execute_result"
    }
   ],
   "source": [
    "test.json()"
   ]
  },
  {
   "cell_type": "code",
   "execution_count": 24,
   "metadata": {},
   "outputs": [
    {
     "ename": "Forbidden",
     "evalue": "{\"status\":\"unauthorized\",\"errors\":[{\"message\":\"user not authorised to perform that action\"}]}",
     "output_type": "error",
     "traceback": [
      "\u001b[1;31m---------------------------------------------------------------------------\u001b[0m",
      "\u001b[1;31mForbidden\u001b[0m                                 Traceback (most recent call last)",
      "Cell \u001b[1;32mIn[24], line 7\u001b[0m\n\u001b[0;32m      4\u001b[0m course_id \u001b[38;5;241m=\u001b[39m \u001b[38;5;241m31500\u001b[39m\n\u001b[0;32m      5\u001b[0m url \u001b[38;5;241m=\u001b[39m \u001b[38;5;124mf\u001b[39m\u001b[38;5;124m\"\u001b[39m\u001b[38;5;124mcourses/\u001b[39m\u001b[38;5;132;01m{\u001b[39;00mcourse_id\u001b[38;5;132;01m}\u001b[39;00m\u001b[38;5;124m/assignments/\u001b[39m\u001b[38;5;132;01m{\u001b[39;00massignment_id\u001b[38;5;132;01m}\u001b[39;00m\u001b[38;5;124m/submissions/\u001b[39m\u001b[38;5;132;01m{\u001b[39;00muser_id\u001b[38;5;132;01m}\u001b[39;00m\u001b[38;5;124m/comments/files\u001b[39m\u001b[38;5;124m\"\u001b[39m\n\u001b[1;32m----> 7\u001b[0m test \u001b[38;5;241m=\u001b[39m \u001b[43mrequester\u001b[49m\u001b[38;5;241;43m.\u001b[39;49m\u001b[43mrequest\u001b[49m\u001b[43m(\u001b[49m\u001b[38;5;124;43m\"\u001b[39;49m\u001b[38;5;124;43mPOST\u001b[39;49m\u001b[38;5;124;43m\"\u001b[39;49m\u001b[43m,\u001b[49m\u001b[43m \u001b[49m\u001b[43murl\u001b[49m\u001b[43m)\u001b[49m\n",
      "File \u001b[1;32mc:\\Users\\luke-\\anaconda3\\envs\\canvas-pipeline\\Lib\\site-packages\\canvasapi\\requester.py:270\u001b[0m, in \u001b[0;36mRequester.request\u001b[1;34m(self, method, endpoint, headers, use_auth, _url, _kwargs, json, **kwargs)\u001b[0m\n\u001b[0;32m    266\u001b[0m         \u001b[38;5;28;01mraise\u001b[39;00m RateLimitExceeded(\n\u001b[0;32m    267\u001b[0m             \u001b[38;5;124m\"\u001b[39m\u001b[38;5;124mRate Limit Exceeded. X-Rate-Limit-Remaining: \u001b[39m\u001b[38;5;132;01m{}\u001b[39;00m\u001b[38;5;124m\"\u001b[39m\u001b[38;5;241m.\u001b[39mformat(remaining)\n\u001b[0;32m    268\u001b[0m         )\n\u001b[0;32m    269\u001b[0m     \u001b[38;5;28;01melse\u001b[39;00m:\n\u001b[1;32m--> 270\u001b[0m         \u001b[38;5;28;01mraise\u001b[39;00m Forbidden(response\u001b[38;5;241m.\u001b[39mtext)\n\u001b[0;32m    271\u001b[0m \u001b[38;5;28;01melif\u001b[39;00m response\u001b[38;5;241m.\u001b[39mstatus_code \u001b[38;5;241m==\u001b[39m \u001b[38;5;241m404\u001b[39m:\n\u001b[0;32m    272\u001b[0m     \u001b[38;5;28;01mraise\u001b[39;00m ResourceDoesNotExist(\u001b[38;5;124m\"\u001b[39m\u001b[38;5;124mNot Found\u001b[39m\u001b[38;5;124m\"\u001b[39m)\n",
      "\u001b[1;31mForbidden\u001b[0m: {\"status\":\"unauthorized\",\"errors\":[{\"message\":\"user not authorised to perform that action\"}]}"
     ]
    }
   ],
   "source": [
    "submission_id = 345502\n",
    "assignment_id = 331573\n",
    "user_id = 345502\n",
    "course_id = 31500\n",
    "url = f\"courses/{course_id}/assignments/{assignment_id}/submissions/{user_id}/comments/files\"\n",
    "\n",
    "test = requester.request(\"POST\", url)"
   ]
  }
 ],
 "metadata": {
  "kernelspec": {
   "display_name": "canvas-connector",
   "language": "python",
   "name": "python3"
  },
  "language_info": {
   "codemirror_mode": {
    "name": "ipython",
    "version": 3
   },
   "file_extension": ".py",
   "mimetype": "text/x-python",
   "name": "python",
   "nbconvert_exporter": "python",
   "pygments_lexer": "ipython3",
   "version": "3.11.10"
  }
 },
 "nbformat": 4,
 "nbformat_minor": 2
}
