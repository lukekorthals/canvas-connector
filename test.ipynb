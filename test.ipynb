{
 "cells": [
  {
   "cell_type": "code",
   "execution_count": 1,
   "metadata": {},
   "outputs": [],
   "source": [
    "from canvasapi import Canvas\n",
    "from canvasapi.requester import Requester\n",
    "import os\n",
    "import requests\n",
    "\n",
    "\n",
    "from utils.canvas_utils import get_courses_df, get_users_df, get_courses_df, donwload_assignment_submissions\n",
    "\n",
    "CANVAS_API_URL = os.getenv(\"CANVAS_API_URL\")\n",
    "CANVAS_API_KEY = os.getenv(\"CANVAS_API_KEY\")"
   ]
  },
  {
   "cell_type": "code",
   "execution_count": 2,
   "metadata": {},
   "outputs": [],
   "source": [
    "canvas = Canvas(CANVAS_API_URL, CANVAS_API_KEY)\n",
    "requester = Requester(CANVAS_API_URL, CANVAS_API_KEY)"
   ]
  },
  {
   "cell_type": "code",
   "execution_count": 3,
   "metadata": {},
   "outputs": [
    {
     "data": {
      "text/html": [
       "<div>\n",
       "<style scoped>\n",
       "    .dataframe tbody tr th:only-of-type {\n",
       "        vertical-align: middle;\n",
       "    }\n",
       "\n",
       "    .dataframe tbody tr th {\n",
       "        vertical-align: top;\n",
       "    }\n",
       "\n",
       "    .dataframe thead th {\n",
       "        text-align: right;\n",
       "    }\n",
       "</style>\n",
       "<table border=\"1\" class=\"dataframe\">\n",
       "  <thead>\n",
       "    <tr style=\"text-align: right;\">\n",
       "      <th></th>\n",
       "      <th>course_id</th>\n",
       "      <th>course_name</th>\n",
       "      <th>course_created_at</th>\n",
       "    </tr>\n",
       "  </thead>\n",
       "  <tbody>\n",
       "    <tr>\n",
       "      <th>0</th>\n",
       "      <td>47314</td>\n",
       "      <td>Deep Learning in Python</td>\n",
       "      <td>2024-05-13T08:35:28Z</td>\n",
       "    </tr>\n",
       "    <tr>\n",
       "      <th>1</th>\n",
       "      <td>2989</td>\n",
       "      <td>PhD Monitoring</td>\n",
       "      <td>2018-05-14T11:35:35Z</td>\n",
       "    </tr>\n",
       "    <tr>\n",
       "      <th>2</th>\n",
       "      <td>40084</td>\n",
       "      <td>Programming in Psychological Science</td>\n",
       "      <td>2023-05-30T07:25:12Z</td>\n",
       "    </tr>\n",
       "    <tr>\n",
       "      <th>3</th>\n",
       "      <td>24603</td>\n",
       "      <td>Programming in Psychological Science</td>\n",
       "      <td>2021-05-19T09:28:14Z</td>\n",
       "    </tr>\n",
       "    <tr>\n",
       "      <th>4</th>\n",
       "      <td>31500</td>\n",
       "      <td>Programming in Psychological Science</td>\n",
       "      <td>2022-05-18T12:22:33Z</td>\n",
       "    </tr>\n",
       "    <tr>\n",
       "      <th>5</th>\n",
       "      <td>47355</td>\n",
       "      <td>Programming in Psychological Science</td>\n",
       "      <td>2024-05-13T08:35:50Z</td>\n",
       "    </tr>\n",
       "  </tbody>\n",
       "</table>\n",
       "</div>"
      ],
      "text/plain": [
       "   course_id                           course_name     course_created_at\n",
       "0      47314               Deep Learning in Python  2024-05-13T08:35:28Z\n",
       "1       2989                        PhD Monitoring  2018-05-14T11:35:35Z\n",
       "2      40084  Programming in Psychological Science  2023-05-30T07:25:12Z\n",
       "3      24603  Programming in Psychological Science  2021-05-19T09:28:14Z\n",
       "4      31500  Programming in Psychological Science  2022-05-18T12:22:33Z\n",
       "5      47355  Programming in Psychological Science  2024-05-13T08:35:50Z"
      ]
     },
     "execution_count": 3,
     "metadata": {},
     "output_type": "execute_result"
    }
   ],
   "source": [
    "# Checkout course IDs\n",
    "pips_2022_id = 31500\n",
    "course = canvas.get_course(pips_2022_id)\n",
    "get_courses_df(canvas)"
   ]
  },
  {
   "cell_type": "code",
   "execution_count": 4,
   "metadata": {},
   "outputs": [
    {
     "data": {
      "text/html": [
       "<div>\n",
       "<style scoped>\n",
       "    .dataframe tbody tr th:only-of-type {\n",
       "        vertical-align: middle;\n",
       "    }\n",
       "\n",
       "    .dataframe tbody tr th {\n",
       "        vertical-align: top;\n",
       "    }\n",
       "\n",
       "    .dataframe thead th {\n",
       "        text-align: right;\n",
       "    }\n",
       "</style>\n",
       "<table border=\"1\" class=\"dataframe\">\n",
       "  <thead>\n",
       "    <tr style=\"text-align: right;\">\n",
       "      <th></th>\n",
       "      <th>user_id</th>\n",
       "      <th>user_name</th>\n",
       "      <th>user_email</th>\n",
       "    </tr>\n",
       "  </thead>\n",
       "  <tbody>\n",
       "    <tr>\n",
       "      <th>33</th>\n",
       "      <td>345502</td>\n",
       "      <td>Luke Korthals</td>\n",
       "      <td>luke.korthals@student.uva.nl</td>\n",
       "    </tr>\n",
       "    <tr>\n",
       "      <th>34</th>\n",
       "      <td>513294</td>\n",
       "      <td>Luke Korthals</td>\n",
       "      <td>l.korthals@uva.nl</td>\n",
       "    </tr>\n",
       "  </tbody>\n",
       "</table>\n",
       "</div>"
      ],
      "text/plain": [
       "    user_id      user_name                    user_email\n",
       "33   345502  Luke Korthals  luke.korthals@student.uva.nl\n",
       "34   513294  Luke Korthals             l.korthals@uva.nl"
      ]
     },
     "execution_count": 4,
     "metadata": {},
     "output_type": "execute_result"
    }
   ],
   "source": [
    "# Checkout students\n",
    "luke_student_id = 345502\n",
    "luke_student = course.get_user(luke_student_id)\n",
    "get_users_df(course).query(\"user_name=='Luke Korthals'\")"
   ]
  },
  {
   "cell_type": "code",
   "execution_count": 6,
   "metadata": {},
   "outputs": [],
   "source": [
    "course_id = 31500 # PIPS 2022\n",
    "assignment_id = 331573 # Assignment 1\n",
    "user_id_blacklist = None\n",
    "user_id_whitelist = [345502] # Luke Student ID for now\n",
    "\n",
    "donwload_assignment_submissions(requester, course_id, assignment_id, user_id_whitelist=user_id_whitelist)"
   ]
  },
  {
   "cell_type": "markdown",
   "metadata": {},
   "source": [
    "Notify Canvas that you are uploading a file with a POST to the file creation endpoint. This POST will include the file name and file size, along with information about what context the file is being created in.\n",
    "Upload the file using the information returned in the first POST request.\n",
    "On successful upload, the API will respond with a redirect. This redirect needs to be followed to complete the upload, or the file may not appear."
   ]
  },
  {
   "cell_type": "code",
   "execution_count": 51,
   "metadata": {},
   "outputs": [
    {
     "ename": "ResourceDoesNotExist",
     "evalue": "Not Found",
     "output_type": "error",
     "traceback": [
      "\u001b[1;31m---------------------------------------------------------------------------\u001b[0m",
      "\u001b[1;31mResourceDoesNotExist\u001b[0m                      Traceback (most recent call last)",
      "Cell \u001b[1;32mIn[51], line 1\u001b[0m\n\u001b[1;32m----> 1\u001b[0m upload_file_request \u001b[38;5;241m=\u001b[39m \u001b[43mrequester\u001b[49m\u001b[38;5;241;43m.\u001b[39;49m\u001b[43mrequest\u001b[49m\u001b[43m(\u001b[49m\u001b[38;5;124;43m\"\u001b[39;49m\u001b[38;5;124;43mPOST\u001b[39;49m\u001b[38;5;124;43m\"\u001b[39;49m\u001b[43m,\u001b[49m\u001b[43m \u001b[49m\u001b[43mpost_file_request\u001b[49m\u001b[38;5;241;43m.\u001b[39;49m\u001b[43mjson\u001b[49m\u001b[43m(\u001b[49m\u001b[43m)\u001b[49m\u001b[43m[\u001b[49m\u001b[38;5;124;43m\"\u001b[39;49m\u001b[38;5;124;43mupload_url\u001b[39;49m\u001b[38;5;124;43m\"\u001b[39;49m\u001b[43m]\u001b[49m\u001b[43m,\u001b[49m\u001b[43m \u001b[49m\u001b[43mfiles\u001b[49m\u001b[38;5;241;43m=\u001b[39;49m\u001b[43m{\u001b[49m\u001b[38;5;124;43m\"\u001b[39;49m\u001b[38;5;124;43mfile\u001b[39;49m\u001b[38;5;124;43m\"\u001b[39;49m\u001b[43m:\u001b[49m\u001b[43m \u001b[49m\u001b[38;5;28;43mopen\u001b[39;49m\u001b[43m(\u001b[49m\u001b[43mfilename\u001b[49m\u001b[43m,\u001b[49m\u001b[43m \u001b[49m\u001b[38;5;124;43m\"\u001b[39;49m\u001b[38;5;124;43mrb\u001b[39;49m\u001b[38;5;124;43m\"\u001b[39;49m\u001b[43m)\u001b[49m\u001b[43m}\u001b[49m\u001b[43m)\u001b[49m\n",
      "File \u001b[1;32mc:\\Users\\luke-\\anaconda3\\envs\\canvas-pipeline\\Lib\\site-packages\\canvasapi\\requester.py:272\u001b[0m, in \u001b[0;36mRequester.request\u001b[1;34m(self, method, endpoint, headers, use_auth, _url, _kwargs, json, **kwargs)\u001b[0m\n\u001b[0;32m    270\u001b[0m         \u001b[38;5;28;01mraise\u001b[39;00m Forbidden(response\u001b[38;5;241m.\u001b[39mtext)\n\u001b[0;32m    271\u001b[0m \u001b[38;5;28;01melif\u001b[39;00m response\u001b[38;5;241m.\u001b[39mstatus_code \u001b[38;5;241m==\u001b[39m \u001b[38;5;241m404\u001b[39m:\n\u001b[1;32m--> 272\u001b[0m     \u001b[38;5;28;01mraise\u001b[39;00m ResourceDoesNotExist(\u001b[38;5;124m\"\u001b[39m\u001b[38;5;124mNot Found\u001b[39m\u001b[38;5;124m\"\u001b[39m)\n\u001b[0;32m    273\u001b[0m \u001b[38;5;28;01melif\u001b[39;00m response\u001b[38;5;241m.\u001b[39mstatus_code \u001b[38;5;241m==\u001b[39m \u001b[38;5;241m409\u001b[39m:\n\u001b[0;32m    274\u001b[0m     \u001b[38;5;28;01mraise\u001b[39;00m Conflict(response\u001b[38;5;241m.\u001b[39mtext)\n",
      "\u001b[1;31mResourceDoesNotExist\u001b[0m: Not Found"
     ]
    }
   ],
   "source": [
    "upload_file_request = requester.request(\"POST\", post_file_request.json()[\"upload_url\"], files={\"file\": open(filename, \"rb\")})"
   ]
  },
  {
   "cell_type": "code",
   "execution_count": 110,
   "metadata": {},
   "outputs": [],
   "source": [
    "def get_request_as_json(url, method=\"GET\", data=None):\n",
    "    url = f\"{url}?per_page=100\"\n",
    "    return requester.request(method, url, data=data).json()"
   ]
  },
  {
   "cell_type": "code",
   "execution_count": 68,
   "metadata": {},
   "outputs": [],
   "source": [
    "folders = get_request_as_json(\"users/self/folders\")"
   ]
  },
  {
   "cell_type": "code",
   "execution_count": 64,
   "metadata": {},
   "outputs": [],
   "source": [
    "file_path = \"test/luke_test.txt\"\n",
    "file_name = file_path.split(\"/\")[-1]\n",
    "file_size = os.stat(file_path).st_size"
   ]
  },
  {
   "cell_type": "code",
   "execution_count": 66,
   "metadata": {},
   "outputs": [],
   "source": [
    "def upload_file_to_canvas(file_path: str, canvas_folder_id: int):\n",
    "    \"\"\"Uploads a file to canvas\"\"\"\n",
    "    # Request upload url\n",
    "    file_name = file_path.split(\"/\")[-1]\n",
    "    file_size = os.stat(file_path).st_size\n",
    "    post_data = {\n",
    "        \"name\": file_name,\n",
    "        \"size\": file_size,\n",
    "        \"parent_folder_id\": canvas_folder_id\n",
    "    }\n",
    "    post_file_request = requester.request(\"POST\", f\"users/self/files\", data=post_data)\n",
    "\n",
    "    # Upload file\n",
    "    upload_url = post_file_request.json()[\"upload_url\"]\n",
    "    upload_data = post_file_request.json()[\"upload_params\"]\n",
    "    return requests.post(upload_url, data=upload_data, files={\"file\": open(file_path, \"rb\")})"
   ]
  },
  {
   "cell_type": "code",
   "execution_count": 70,
   "metadata": {},
   "outputs": [
    {
     "data": {
      "text/plain": [
       "<Response [201]>"
      ]
     },
     "execution_count": 70,
     "metadata": {},
     "output_type": "execute_result"
    }
   ],
   "source": [
    "upload_file_to_canvas(\"test/luke_test.txt\", 2666353)"
   ]
  },
  {
   "cell_type": "code",
   "execution_count": null,
   "metadata": {},
   "outputs": [],
   "source": []
  },
  {
   "cell_type": "code",
   "execution_count": null,
   "metadata": {},
   "outputs": [],
   "source": [
    "# Inputs\n",
    "#   Course ID\n",
    "#   Assignment ID\n",
    "#   User ID Blacklist\n",
    "#   User ID Whitelist - supercedes blacklist\n",
    "\n",
    "\n",
    "# GET Submissions\n",
    "#   Querry all submissions including history of that course and assignment\n",
    "#   If Whitelist only whitelist if blacklist not blacklist\n",
    "#   Extract all attachment IDs together with relevant information for naming and saving etc\n",
    "\n",
    "# Download Files\n",
    "#   Loop over the gathered attachments and download them to the correct location\n",
    "\n",
    "# Create Feedback\n",
    "#   Query \n"
   ]
  },
  {
   "cell_type": "code",
   "execution_count": 386,
   "metadata": {},
   "outputs": [
    {
     "data": {
      "text/plain": [
       "'submissions/12/1234'"
      ]
     },
     "execution_count": 386,
     "metadata": {},
     "output_type": "execute_result"
    }
   ],
   "source": [
    "folder_structure = \"submissions/{user_id}/{assignment_id}\"\n",
    "values = {\"user_id\": 12, \"assignment_id\": 1234}\n",
    "\n",
    "folder_structure.format(**values)"
   ]
  }
 ],
 "metadata": {
  "kernelspec": {
   "display_name": "canvas-pipeline",
   "language": "python",
   "name": "python3"
  },
  "language_info": {
   "codemirror_mode": {
    "name": "ipython",
    "version": 3
   },
   "file_extension": ".py",
   "mimetype": "text/x-python",
   "name": "python",
   "nbconvert_exporter": "python",
   "pygments_lexer": "ipython3",
   "version": "3.11.10"
  }
 },
 "nbformat": 4,
 "nbformat_minor": 2
}
